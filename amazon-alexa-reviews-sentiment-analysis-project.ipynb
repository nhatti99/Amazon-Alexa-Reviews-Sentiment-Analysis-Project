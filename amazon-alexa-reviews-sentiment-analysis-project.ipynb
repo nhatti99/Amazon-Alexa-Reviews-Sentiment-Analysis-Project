{
 "cells": [
  {
   "cell_type": "code",
   "execution_count": 1,
   "id": "316d842b",
   "metadata": {
    "_cell_guid": "b1076dfc-b9ad-4769-8c92-a6c4dae69d19",
    "_uuid": "8f2839f25d086af736a60e9eeb907d3b93b6e0e5",
    "execution": {
     "iopub.execute_input": "2022-09-08T17:30:04.971052Z",
     "iopub.status.busy": "2022-09-08T17:30:04.970488Z",
     "iopub.status.idle": "2022-09-08T17:30:04.991891Z",
     "shell.execute_reply": "2022-09-08T17:30:04.990835Z"
    },
    "papermill": {
     "duration": 0.035908,
     "end_time": "2022-09-08T17:30:04.996151",
     "exception": false,
     "start_time": "2022-09-08T17:30:04.960243",
     "status": "completed"
    },
    "tags": []
   },
   "outputs": [
    {
     "name": "stdout",
     "output_type": "stream",
     "text": [
      "/kaggle/input/amazon-alexa-reviews/amazon_alexa.tsv\n"
     ]
    }
   ],
   "source": [
    "# This Python 3 environment comes with many helpful analytics libraries installed\n",
    "# It is defined by the kaggle/python Docker image: https://github.com/kaggle/docker-python\n",
    "# For example, here's several helpful packages to load\n",
    "\n",
    "import numpy as np # linear algebra\n",
    "import pandas as pd # data processing, CSV file I/O (e.g. pd.read_csv)\n",
    "\n",
    "# Input data files are available in the read-only \"../input/\" directory\n",
    "# For example, running this (by clicking run or pressing Shift+Enter) will list all files under the input directory\n",
    "\n",
    "import os\n",
    "for dirname, _, filenames in os.walk('/kaggle/input'):\n",
    "    for filename in filenames:\n",
    "        print(os.path.join(dirname, filename))\n",
    "\n",
    "# You can write up to 20GB to the current directory (/kaggle/working/) that gets preserved as output when you create a version using \"Save & Run All\" \n",
    "# You can also write temporary files to /kaggle/temp/, but they won't be saved outside of the current session"
   ]
  },
  {
   "cell_type": "code",
   "execution_count": 2,
   "id": "2d8df0fa",
   "metadata": {
    "execution": {
     "iopub.execute_input": "2022-09-08T17:30:05.014230Z",
     "iopub.status.busy": "2022-09-08T17:30:05.013672Z",
     "iopub.status.idle": "2022-09-08T17:30:07.192881Z",
     "shell.execute_reply": "2022-09-08T17:30:07.191535Z"
    },
    "papermill": {
     "duration": 2.191113,
     "end_time": "2022-09-08T17:30:07.196061",
     "exception": false,
     "start_time": "2022-09-08T17:30:05.004948",
     "status": "completed"
    },
    "tags": []
   },
   "outputs": [],
   "source": [
    "import matplotlib.pyplot as plt\n",
    "%matplotlib inline\n",
    "import seaborn as sns\n",
    "from nltk.sentiment.vader import SentimentIntensityAnalyzer"
   ]
  },
  {
   "cell_type": "code",
   "execution_count": 3,
   "id": "c8519dd9",
   "metadata": {
    "execution": {
     "iopub.execute_input": "2022-09-08T17:30:07.211253Z",
     "iopub.status.busy": "2022-09-08T17:30:07.210787Z",
     "iopub.status.idle": "2022-09-08T17:30:07.238759Z",
     "shell.execute_reply": "2022-09-08T17:30:07.237558Z"
    },
    "papermill": {
     "duration": 0.039396,
     "end_time": "2022-09-08T17:30:07.241944",
     "exception": false,
     "start_time": "2022-09-08T17:30:07.202548",
     "status": "completed"
    },
    "tags": []
   },
   "outputs": [],
   "source": [
    "sentiment = SentimentIntensityAnalyzer()"
   ]
  },
  {
   "cell_type": "code",
   "execution_count": 4,
   "id": "d4467090",
   "metadata": {
    "execution": {
     "iopub.execute_input": "2022-09-08T17:30:07.256496Z",
     "iopub.status.busy": "2022-09-08T17:30:07.256063Z",
     "iopub.status.idle": "2022-09-08T17:30:07.290851Z",
     "shell.execute_reply": "2022-09-08T17:30:07.289453Z"
    },
    "papermill": {
     "duration": 0.045573,
     "end_time": "2022-09-08T17:30:07.293927",
     "exception": false,
     "start_time": "2022-09-08T17:30:07.248354",
     "status": "completed"
    },
    "tags": []
   },
   "outputs": [],
   "source": [
    "df = pd.read_csv('../input/amazon-alexa-reviews/amazon_alexa.tsv', delimiter='\\t')"
   ]
  },
  {
   "cell_type": "code",
   "execution_count": 5,
   "id": "d8c3b519",
   "metadata": {
    "execution": {
     "iopub.execute_input": "2022-09-08T17:30:07.309614Z",
     "iopub.status.busy": "2022-09-08T17:30:07.308685Z",
     "iopub.status.idle": "2022-09-08T17:30:07.332979Z",
     "shell.execute_reply": "2022-09-08T17:30:07.332000Z"
    },
    "papermill": {
     "duration": 0.03507,
     "end_time": "2022-09-08T17:30:07.335371",
     "exception": false,
     "start_time": "2022-09-08T17:30:07.300301",
     "status": "completed"
    },
    "tags": []
   },
   "outputs": [
    {
     "data": {
      "text/html": [
       "<div>\n",
       "<style scoped>\n",
       "    .dataframe tbody tr th:only-of-type {\n",
       "        vertical-align: middle;\n",
       "    }\n",
       "\n",
       "    .dataframe tbody tr th {\n",
       "        vertical-align: top;\n",
       "    }\n",
       "\n",
       "    .dataframe thead th {\n",
       "        text-align: right;\n",
       "    }\n",
       "</style>\n",
       "<table border=\"1\" class=\"dataframe\">\n",
       "  <thead>\n",
       "    <tr style=\"text-align: right;\">\n",
       "      <th></th>\n",
       "      <th>rating</th>\n",
       "      <th>date</th>\n",
       "      <th>variation</th>\n",
       "      <th>verified_reviews</th>\n",
       "      <th>feedback</th>\n",
       "    </tr>\n",
       "  </thead>\n",
       "  <tbody>\n",
       "    <tr>\n",
       "      <th>0</th>\n",
       "      <td>5</td>\n",
       "      <td>31-Jul-18</td>\n",
       "      <td>Charcoal Fabric</td>\n",
       "      <td>Love my Echo!</td>\n",
       "      <td>1</td>\n",
       "    </tr>\n",
       "    <tr>\n",
       "      <th>1</th>\n",
       "      <td>5</td>\n",
       "      <td>31-Jul-18</td>\n",
       "      <td>Charcoal Fabric</td>\n",
       "      <td>Loved it!</td>\n",
       "      <td>1</td>\n",
       "    </tr>\n",
       "    <tr>\n",
       "      <th>2</th>\n",
       "      <td>4</td>\n",
       "      <td>31-Jul-18</td>\n",
       "      <td>Walnut Finish</td>\n",
       "      <td>Sometimes while playing a game, you can answer...</td>\n",
       "      <td>1</td>\n",
       "    </tr>\n",
       "    <tr>\n",
       "      <th>3</th>\n",
       "      <td>5</td>\n",
       "      <td>31-Jul-18</td>\n",
       "      <td>Charcoal Fabric</td>\n",
       "      <td>I have had a lot of fun with this thing. My 4 ...</td>\n",
       "      <td>1</td>\n",
       "    </tr>\n",
       "    <tr>\n",
       "      <th>4</th>\n",
       "      <td>5</td>\n",
       "      <td>31-Jul-18</td>\n",
       "      <td>Charcoal Fabric</td>\n",
       "      <td>Music</td>\n",
       "      <td>1</td>\n",
       "    </tr>\n",
       "  </tbody>\n",
       "</table>\n",
       "</div>"
      ],
      "text/plain": [
       "   rating       date         variation  \\\n",
       "0       5  31-Jul-18  Charcoal Fabric    \n",
       "1       5  31-Jul-18  Charcoal Fabric    \n",
       "2       4  31-Jul-18    Walnut Finish    \n",
       "3       5  31-Jul-18  Charcoal Fabric    \n",
       "4       5  31-Jul-18  Charcoal Fabric    \n",
       "\n",
       "                                    verified_reviews  feedback  \n",
       "0                                      Love my Echo!         1  \n",
       "1                                          Loved it!         1  \n",
       "2  Sometimes while playing a game, you can answer...         1  \n",
       "3  I have had a lot of fun with this thing. My 4 ...         1  \n",
       "4                                              Music         1  "
      ]
     },
     "execution_count": 5,
     "metadata": {},
     "output_type": "execute_result"
    }
   ],
   "source": [
    "df.head()"
   ]
  },
  {
   "cell_type": "code",
   "execution_count": 6,
   "id": "7dcaa5cd",
   "metadata": {
    "execution": {
     "iopub.execute_input": "2022-09-08T17:30:07.350622Z",
     "iopub.status.busy": "2022-09-08T17:30:07.349873Z",
     "iopub.status.idle": "2022-09-08T17:30:07.379498Z",
     "shell.execute_reply": "2022-09-08T17:30:07.377174Z"
    },
    "papermill": {
     "duration": 0.041399,
     "end_time": "2022-09-08T17:30:07.383080",
     "exception": false,
     "start_time": "2022-09-08T17:30:07.341681",
     "status": "completed"
    },
    "tags": []
   },
   "outputs": [
    {
     "name": "stdout",
     "output_type": "stream",
     "text": [
      "<class 'pandas.core.frame.DataFrame'>\n",
      "RangeIndex: 3150 entries, 0 to 3149\n",
      "Data columns (total 5 columns):\n",
      " #   Column            Non-Null Count  Dtype \n",
      "---  ------            --------------  ----- \n",
      " 0   rating            3150 non-null   int64 \n",
      " 1   date              3150 non-null   object\n",
      " 2   variation         3150 non-null   object\n",
      " 3   verified_reviews  3150 non-null   object\n",
      " 4   feedback          3150 non-null   int64 \n",
      "dtypes: int64(2), object(3)\n",
      "memory usage: 123.2+ KB\n"
     ]
    }
   ],
   "source": [
    "df.info()"
   ]
  },
  {
   "cell_type": "code",
   "execution_count": 7,
   "id": "b927e8ac",
   "metadata": {
    "execution": {
     "iopub.execute_input": "2022-09-08T17:30:07.398796Z",
     "iopub.status.busy": "2022-09-08T17:30:07.398383Z",
     "iopub.status.idle": "2022-09-08T17:30:07.406862Z",
     "shell.execute_reply": "2022-09-08T17:30:07.405519Z"
    },
    "papermill": {
     "duration": 0.01961,
     "end_time": "2022-09-08T17:30:07.409665",
     "exception": false,
     "start_time": "2022-09-08T17:30:07.390055",
     "status": "completed"
    },
    "tags": []
   },
   "outputs": [
    {
     "data": {
      "text/plain": [
       "(3150, 5)"
      ]
     },
     "execution_count": 7,
     "metadata": {},
     "output_type": "execute_result"
    }
   ],
   "source": [
    "df.shape"
   ]
  },
  {
   "cell_type": "code",
   "execution_count": 8,
   "id": "1c0acf5e",
   "metadata": {
    "execution": {
     "iopub.execute_input": "2022-09-08T17:30:07.426226Z",
     "iopub.status.busy": "2022-09-08T17:30:07.425249Z",
     "iopub.status.idle": "2022-09-08T17:30:07.449535Z",
     "shell.execute_reply": "2022-09-08T17:30:07.447994Z"
    },
    "papermill": {
     "duration": 0.035674,
     "end_time": "2022-09-08T17:30:07.452243",
     "exception": false,
     "start_time": "2022-09-08T17:30:07.416569",
     "status": "completed"
    },
    "tags": []
   },
   "outputs": [
    {
     "data": {
      "text/html": [
       "<div>\n",
       "<style scoped>\n",
       "    .dataframe tbody tr th:only-of-type {\n",
       "        vertical-align: middle;\n",
       "    }\n",
       "\n",
       "    .dataframe tbody tr th {\n",
       "        vertical-align: top;\n",
       "    }\n",
       "\n",
       "    .dataframe thead th {\n",
       "        text-align: right;\n",
       "    }\n",
       "</style>\n",
       "<table border=\"1\" class=\"dataframe\">\n",
       "  <thead>\n",
       "    <tr style=\"text-align: right;\">\n",
       "      <th></th>\n",
       "      <th>rating</th>\n",
       "      <th>feedback</th>\n",
       "    </tr>\n",
       "  </thead>\n",
       "  <tbody>\n",
       "    <tr>\n",
       "      <th>count</th>\n",
       "      <td>3150.000000</td>\n",
       "      <td>3150.000000</td>\n",
       "    </tr>\n",
       "    <tr>\n",
       "      <th>mean</th>\n",
       "      <td>4.463175</td>\n",
       "      <td>0.918413</td>\n",
       "    </tr>\n",
       "    <tr>\n",
       "      <th>std</th>\n",
       "      <td>1.068506</td>\n",
       "      <td>0.273778</td>\n",
       "    </tr>\n",
       "    <tr>\n",
       "      <th>min</th>\n",
       "      <td>1.000000</td>\n",
       "      <td>0.000000</td>\n",
       "    </tr>\n",
       "    <tr>\n",
       "      <th>25%</th>\n",
       "      <td>4.000000</td>\n",
       "      <td>1.000000</td>\n",
       "    </tr>\n",
       "    <tr>\n",
       "      <th>50%</th>\n",
       "      <td>5.000000</td>\n",
       "      <td>1.000000</td>\n",
       "    </tr>\n",
       "    <tr>\n",
       "      <th>75%</th>\n",
       "      <td>5.000000</td>\n",
       "      <td>1.000000</td>\n",
       "    </tr>\n",
       "    <tr>\n",
       "      <th>max</th>\n",
       "      <td>5.000000</td>\n",
       "      <td>1.000000</td>\n",
       "    </tr>\n",
       "  </tbody>\n",
       "</table>\n",
       "</div>"
      ],
      "text/plain": [
       "            rating     feedback\n",
       "count  3150.000000  3150.000000\n",
       "mean      4.463175     0.918413\n",
       "std       1.068506     0.273778\n",
       "min       1.000000     0.000000\n",
       "25%       4.000000     1.000000\n",
       "50%       5.000000     1.000000\n",
       "75%       5.000000     1.000000\n",
       "max       5.000000     1.000000"
      ]
     },
     "execution_count": 8,
     "metadata": {},
     "output_type": "execute_result"
    }
   ],
   "source": [
    "df.describe()"
   ]
  },
  {
   "cell_type": "code",
   "execution_count": 9,
   "id": "ba72f570",
   "metadata": {
    "execution": {
     "iopub.execute_input": "2022-09-08T17:30:07.468089Z",
     "iopub.status.busy": "2022-09-08T17:30:07.467617Z",
     "iopub.status.idle": "2022-09-08T17:30:07.479789Z",
     "shell.execute_reply": "2022-09-08T17:30:07.478508Z"
    },
    "papermill": {
     "duration": 0.02323,
     "end_time": "2022-09-08T17:30:07.482381",
     "exception": false,
     "start_time": "2022-09-08T17:30:07.459151",
     "status": "completed"
    },
    "tags": []
   },
   "outputs": [
    {
     "data": {
      "text/plain": [
       "rating              0\n",
       "date                0\n",
       "variation           0\n",
       "verified_reviews    0\n",
       "feedback            0\n",
       "dtype: int64"
      ]
     },
     "execution_count": 9,
     "metadata": {},
     "output_type": "execute_result"
    }
   ],
   "source": [
    "df.isnull().sum()"
   ]
  },
  {
   "cell_type": "code",
   "execution_count": 10,
   "id": "ba48e60a",
   "metadata": {
    "execution": {
     "iopub.execute_input": "2022-09-08T17:30:07.498262Z",
     "iopub.status.busy": "2022-09-08T17:30:07.497681Z",
     "iopub.status.idle": "2022-09-08T17:30:07.506778Z",
     "shell.execute_reply": "2022-09-08T17:30:07.505448Z"
    },
    "papermill": {
     "duration": 0.020115,
     "end_time": "2022-09-08T17:30:07.509369",
     "exception": false,
     "start_time": "2022-09-08T17:30:07.489254",
     "status": "completed"
    },
    "tags": []
   },
   "outputs": [
    {
     "data": {
      "text/plain": [
       "Index(['rating', 'date', 'variation', 'verified_reviews', 'feedback'], dtype='object')"
      ]
     },
     "execution_count": 10,
     "metadata": {},
     "output_type": "execute_result"
    }
   ],
   "source": [
    "df.columns"
   ]
  },
  {
   "cell_type": "code",
   "execution_count": 11,
   "id": "1eb87d34",
   "metadata": {
    "execution": {
     "iopub.execute_input": "2022-09-08T17:30:07.526206Z",
     "iopub.status.busy": "2022-09-08T17:30:07.524801Z",
     "iopub.status.idle": "2022-09-08T17:30:07.532782Z",
     "shell.execute_reply": "2022-09-08T17:30:07.531494Z"
    },
    "papermill": {
     "duration": 0.01893,
     "end_time": "2022-09-08T17:30:07.535286",
     "exception": false,
     "start_time": "2022-09-08T17:30:07.516356",
     "status": "completed"
    },
    "tags": []
   },
   "outputs": [],
   "source": [
    "rating = df['rating'].value_counts()"
   ]
  },
  {
   "cell_type": "code",
   "execution_count": 12,
   "id": "a8b059f7",
   "metadata": {
    "execution": {
     "iopub.execute_input": "2022-09-08T17:30:07.552167Z",
     "iopub.status.busy": "2022-09-08T17:30:07.550880Z",
     "iopub.status.idle": "2022-09-08T17:30:07.556664Z",
     "shell.execute_reply": "2022-09-08T17:30:07.555592Z"
    },
    "papermill": {
     "duration": 0.017107,
     "end_time": "2022-09-08T17:30:07.559455",
     "exception": false,
     "start_time": "2022-09-08T17:30:07.542348",
     "status": "completed"
    },
    "tags": []
   },
   "outputs": [],
   "source": [
    "num = rating.index"
   ]
  },
  {
   "cell_type": "code",
   "execution_count": 13,
   "id": "f823999b",
   "metadata": {
    "execution": {
     "iopub.execute_input": "2022-09-08T17:30:07.577545Z",
     "iopub.status.busy": "2022-09-08T17:30:07.576676Z",
     "iopub.status.idle": "2022-09-08T17:30:07.582706Z",
     "shell.execute_reply": "2022-09-08T17:30:07.581487Z"
    },
    "papermill": {
     "duration": 0.019227,
     "end_time": "2022-09-08T17:30:07.585590",
     "exception": false,
     "start_time": "2022-09-08T17:30:07.566363",
     "status": "completed"
    },
    "tags": []
   },
   "outputs": [],
   "source": [
    "qua = rating.values"
   ]
  },
  {
   "cell_type": "code",
   "execution_count": 14,
   "id": "b68ae8b9",
   "metadata": {
    "execution": {
     "iopub.execute_input": "2022-09-08T17:30:07.604426Z",
     "iopub.status.busy": "2022-09-08T17:30:07.603302Z",
     "iopub.status.idle": "2022-09-08T17:30:07.610916Z",
     "shell.execute_reply": "2022-09-08T17:30:07.609583Z"
    },
    "papermill": {
     "duration": 0.021134,
     "end_time": "2022-09-08T17:30:07.613999",
     "exception": false,
     "start_time": "2022-09-08T17:30:07.592865",
     "status": "completed"
    },
    "tags": []
   },
   "outputs": [],
   "source": [
    "color = ['skyblue', 'yellowgreen', 'tomato', 'blue', 'red']"
   ]
  },
  {
   "cell_type": "code",
   "execution_count": 15,
   "id": "e05ba56e",
   "metadata": {
    "execution": {
     "iopub.execute_input": "2022-09-08T17:30:07.631772Z",
     "iopub.status.busy": "2022-09-08T17:30:07.630776Z",
     "iopub.status.idle": "2022-09-08T17:30:07.835924Z",
     "shell.execute_reply": "2022-09-08T17:30:07.833640Z"
    },
    "papermill": {
     "duration": 0.222277,
     "end_time": "2022-09-08T17:30:07.843675",
     "exception": false,
     "start_time": "2022-09-08T17:30:07.621398",
     "status": "completed"
    },
    "tags": []
   },
   "outputs": [
    {
     "data": {
      "image/png": "[encoded data removed]",
      "text/plain": [
       "<Figure size 432x432 with 1 Axes>"
      ]
     },
     "metadata": {},
     "output_type": "display_data"
    }
   ],
   "source": [
    "plt.figure(figsize=(6,6))\n",
    "plt.pie(qua, labels=num, colors=color)\n",
    "circle = plt.Circle((0,0), 0.5, color='white')\n",
    "fig = plt.gcf()\n",
    "fig.gca().add_artist(circle)\n",
    "plt.rc('font', size=10)\n",
    "plt.title('Amazon alexa review analysis', fontsize=25)\n",
    "plt.show()"
   ]
  },
  {
   "cell_type": "code",
   "execution_count": 16,
   "id": "25373940",
   "metadata": {
    "execution": {
     "iopub.execute_input": "2022-09-08T17:30:07.881090Z",
     "iopub.status.busy": "2022-09-08T17:30:07.880084Z",
     "iopub.status.idle": "2022-09-08T17:30:07.897578Z",
     "shell.execute_reply": "2022-09-08T17:30:07.896427Z"
    },
    "papermill": {
     "duration": 0.038554,
     "end_time": "2022-09-08T17:30:07.900598",
     "exception": false,
     "start_time": "2022-09-08T17:30:07.862044",
     "status": "completed"
    },
    "tags": []
   },
   "outputs": [],
   "source": [
    "sentiment = SentimentIntensityAnalyzer()"
   ]
  },
  {
   "cell_type": "code",
   "execution_count": 17,
   "id": "5c4333c1",
   "metadata": {
    "execution": {
     "iopub.execute_input": "2022-09-08T17:30:07.917089Z",
     "iopub.status.busy": "2022-09-08T17:30:07.916672Z",
     "iopub.status.idle": "2022-09-08T17:30:11.490911Z",
     "shell.execute_reply": "2022-09-08T17:30:11.489383Z"
    },
    "papermill": {
     "duration": 3.586146,
     "end_time": "2022-09-08T17:30:11.494171",
     "exception": false,
     "start_time": "2022-09-08T17:30:07.908025",
     "status": "completed"
    },
    "tags": []
   },
   "outputs": [],
   "source": [
    "df['positive'] = [sentiment.polarity_scores(i)['pos'] for i in df['verified_reviews']]\n",
    "df['negative'] = [sentiment.polarity_scores(i)['neg'] for i in df['verified_reviews']]\n",
    "df['neutral'] = [sentiment.polarity_scores(i)['neu'] for i in df['verified_reviews']]"
   ]
  },
  {
   "cell_type": "code",
   "execution_count": 18,
   "id": "0fec8043",
   "metadata": {
    "execution": {
     "iopub.execute_input": "2022-09-08T17:30:11.511940Z",
     "iopub.status.busy": "2022-09-08T17:30:11.511204Z",
     "iopub.status.idle": "2022-09-08T17:30:11.531148Z",
     "shell.execute_reply": "2022-09-08T17:30:11.529972Z"
    },
    "papermill": {
     "duration": 0.031941,
     "end_time": "2022-09-08T17:30:11.533824",
     "exception": false,
     "start_time": "2022-09-08T17:30:11.501883",
     "status": "completed"
    },
    "tags": []
   },
   "outputs": [
    {
     "data": {
      "text/html": [
       "<div>\n",
       "<style scoped>\n",
       "    .dataframe tbody tr th:only-of-type {\n",
       "        vertical-align: middle;\n",
       "    }\n",
       "\n",
       "    .dataframe tbody tr th {\n",
       "        vertical-align: top;\n",
       "    }\n",
       "\n",
       "    .dataframe thead th {\n",
       "        text-align: right;\n",
       "    }\n",
       "</style>\n",
       "<table border=\"1\" class=\"dataframe\">\n",
       "  <thead>\n",
       "    <tr style=\"text-align: right;\">\n",
       "      <th></th>\n",
       "      <th>rating</th>\n",
       "      <th>date</th>\n",
       "      <th>variation</th>\n",
       "      <th>verified_reviews</th>\n",
       "      <th>feedback</th>\n",
       "      <th>positive</th>\n",
       "      <th>negative</th>\n",
       "      <th>neutral</th>\n",
       "    </tr>\n",
       "  </thead>\n",
       "  <tbody>\n",
       "    <tr>\n",
       "      <th>0</th>\n",
       "      <td>5</td>\n",
       "      <td>31-Jul-18</td>\n",
       "      <td>Charcoal Fabric</td>\n",
       "      <td>Love my Echo!</td>\n",
       "      <td>1</td>\n",
       "      <td>0.692</td>\n",
       "      <td>0.000</td>\n",
       "      <td>0.308</td>\n",
       "    </tr>\n",
       "    <tr>\n",
       "      <th>1</th>\n",
       "      <td>5</td>\n",
       "      <td>31-Jul-18</td>\n",
       "      <td>Charcoal Fabric</td>\n",
       "      <td>Loved it!</td>\n",
       "      <td>1</td>\n",
       "      <td>0.807</td>\n",
       "      <td>0.000</td>\n",
       "      <td>0.193</td>\n",
       "    </tr>\n",
       "    <tr>\n",
       "      <th>2</th>\n",
       "      <td>4</td>\n",
       "      <td>31-Jul-18</td>\n",
       "      <td>Walnut Finish</td>\n",
       "      <td>Sometimes while playing a game, you can answer...</td>\n",
       "      <td>1</td>\n",
       "      <td>0.114</td>\n",
       "      <td>0.102</td>\n",
       "      <td>0.784</td>\n",
       "    </tr>\n",
       "    <tr>\n",
       "      <th>3</th>\n",
       "      <td>5</td>\n",
       "      <td>31-Jul-18</td>\n",
       "      <td>Charcoal Fabric</td>\n",
       "      <td>I have had a lot of fun with this thing. My 4 ...</td>\n",
       "      <td>1</td>\n",
       "      <td>0.383</td>\n",
       "      <td>0.000</td>\n",
       "      <td>0.617</td>\n",
       "    </tr>\n",
       "    <tr>\n",
       "      <th>4</th>\n",
       "      <td>5</td>\n",
       "      <td>31-Jul-18</td>\n",
       "      <td>Charcoal Fabric</td>\n",
       "      <td>Music</td>\n",
       "      <td>1</td>\n",
       "      <td>0.000</td>\n",
       "      <td>0.000</td>\n",
       "      <td>1.000</td>\n",
       "    </tr>\n",
       "    <tr>\n",
       "      <th>...</th>\n",
       "      <td>...</td>\n",
       "      <td>...</td>\n",
       "      <td>...</td>\n",
       "      <td>...</td>\n",
       "      <td>...</td>\n",
       "      <td>...</td>\n",
       "      <td>...</td>\n",
       "      <td>...</td>\n",
       "    </tr>\n",
       "    <tr>\n",
       "      <th>3145</th>\n",
       "      <td>5</td>\n",
       "      <td>30-Jul-18</td>\n",
       "      <td>Black  Dot</td>\n",
       "      <td>Perfect for kids, adults and everyone in betwe...</td>\n",
       "      <td>1</td>\n",
       "      <td>0.380</td>\n",
       "      <td>0.000</td>\n",
       "      <td>0.620</td>\n",
       "    </tr>\n",
       "    <tr>\n",
       "      <th>3146</th>\n",
       "      <td>5</td>\n",
       "      <td>30-Jul-18</td>\n",
       "      <td>Black  Dot</td>\n",
       "      <td>Listening to music, searching locations, check...</td>\n",
       "      <td>1</td>\n",
       "      <td>0.000</td>\n",
       "      <td>0.000</td>\n",
       "      <td>1.000</td>\n",
       "    </tr>\n",
       "    <tr>\n",
       "      <th>3147</th>\n",
       "      <td>5</td>\n",
       "      <td>30-Jul-18</td>\n",
       "      <td>Black  Dot</td>\n",
       "      <td>I do love these things, i have them running my...</td>\n",
       "      <td>1</td>\n",
       "      <td>0.237</td>\n",
       "      <td>0.028</td>\n",
       "      <td>0.735</td>\n",
       "    </tr>\n",
       "    <tr>\n",
       "      <th>3148</th>\n",
       "      <td>5</td>\n",
       "      <td>30-Jul-18</td>\n",
       "      <td>White  Dot</td>\n",
       "      <td>Only complaint I have is that the sound qualit...</td>\n",
       "      <td>1</td>\n",
       "      <td>0.087</td>\n",
       "      <td>0.087</td>\n",
       "      <td>0.827</td>\n",
       "    </tr>\n",
       "    <tr>\n",
       "      <th>3149</th>\n",
       "      <td>4</td>\n",
       "      <td>29-Jul-18</td>\n",
       "      <td>Black  Dot</td>\n",
       "      <td>Good</td>\n",
       "      <td>1</td>\n",
       "      <td>1.000</td>\n",
       "      <td>0.000</td>\n",
       "      <td>0.000</td>\n",
       "    </tr>\n",
       "  </tbody>\n",
       "</table>\n",
       "<p>3150 rows × 8 columns</p>\n",
       "</div>"
      ],
      "text/plain": [
       "      rating       date         variation  \\\n",
       "0          5  31-Jul-18  Charcoal Fabric    \n",
       "1          5  31-Jul-18  Charcoal Fabric    \n",
       "2          4  31-Jul-18    Walnut Finish    \n",
       "3          5  31-Jul-18  Charcoal Fabric    \n",
       "4          5  31-Jul-18  Charcoal Fabric    \n",
       "...      ...        ...               ...   \n",
       "3145       5  30-Jul-18        Black  Dot   \n",
       "3146       5  30-Jul-18        Black  Dot   \n",
       "3147       5  30-Jul-18        Black  Dot   \n",
       "3148       5  30-Jul-18        White  Dot   \n",
       "3149       4  29-Jul-18        Black  Dot   \n",
       "\n",
       "                                       verified_reviews  feedback  positive  \\\n",
       "0                                         Love my Echo!         1     0.692   \n",
       "1                                             Loved it!         1     0.807   \n",
       "2     Sometimes while playing a game, you can answer...         1     0.114   \n",
       "3     I have had a lot of fun with this thing. My 4 ...         1     0.383   \n",
       "4                                                 Music         1     0.000   \n",
       "...                                                 ...       ...       ...   \n",
       "3145  Perfect for kids, adults and everyone in betwe...         1     0.380   \n",
       "3146  Listening to music, searching locations, check...         1     0.000   \n",
       "3147  I do love these things, i have them running my...         1     0.237   \n",
       "3148  Only complaint I have is that the sound qualit...         1     0.087   \n",
       "3149                                               Good         1     1.000   \n",
       "\n",
       "      negative  neutral  \n",
       "0        0.000    0.308  \n",
       "1        0.000    0.193  \n",
       "2        0.102    0.784  \n",
       "3        0.000    0.617  \n",
       "4        0.000    1.000  \n",
       "...        ...      ...  \n",
       "3145     0.000    0.620  \n",
       "3146     0.000    1.000  \n",
       "3147     0.028    0.735  \n",
       "3148     0.087    0.827  \n",
       "3149     0.000    0.000  \n",
       "\n",
       "[3150 rows x 8 columns]"
      ]
     },
     "execution_count": 18,
     "metadata": {},
     "output_type": "execute_result"
    }
   ],
   "source": [
    "df"
   ]
  },
  {
   "cell_type": "code",
   "execution_count": 19,
   "id": "0397c741",
   "metadata": {
    "execution": {
     "iopub.execute_input": "2022-09-08T17:30:11.551862Z",
     "iopub.status.busy": "2022-09-08T17:30:11.551446Z",
     "iopub.status.idle": "2022-09-08T17:30:11.558609Z",
     "shell.execute_reply": "2022-09-08T17:30:11.557146Z"
    },
    "papermill": {
     "duration": 0.019411,
     "end_time": "2022-09-08T17:30:11.561420",
     "exception": false,
     "start_time": "2022-09-08T17:30:11.542009",
     "status": "completed"
    },
    "tags": []
   },
   "outputs": [],
   "source": [
    "a = sum(df['positive'])\n",
    "b = sum(df['negative'])\n",
    "c = sum(df['neutral'])"
   ]
  },
  {
   "cell_type": "code",
   "execution_count": 20,
   "id": "8cddb33a",
   "metadata": {
    "execution": {
     "iopub.execute_input": "2022-09-08T17:30:11.578621Z",
     "iopub.status.busy": "2022-09-08T17:30:11.578234Z",
     "iopub.status.idle": "2022-09-08T17:30:11.584286Z",
     "shell.execute_reply": "2022-09-08T17:30:11.583223Z"
    },
    "papermill": {
     "duration": 0.017451,
     "end_time": "2022-09-08T17:30:11.586680",
     "exception": false,
     "start_time": "2022-09-08T17:30:11.569229",
     "status": "completed"
    },
    "tags": []
   },
   "outputs": [],
   "source": [
    "def greater(m,n,o):\n",
    "    if (m>n) and (m>o):\n",
    "        print('Positive')\n",
    "    elif (n>m) and (n>o):\n",
    "        print('Negative')\n",
    "    else :\n",
    "        print('Neutral')\n",
    "        "
   ]
  },
  {
   "cell_type": "code",
   "execution_count": 21,
   "id": "0f7146cb",
   "metadata": {
    "execution": {
     "iopub.execute_input": "2022-09-08T17:30:11.604454Z",
     "iopub.status.busy": "2022-09-08T17:30:11.603249Z",
     "iopub.status.idle": "2022-09-08T17:30:11.610611Z",
     "shell.execute_reply": "2022-09-08T17:30:11.608700Z"
    },
    "papermill": {
     "duration": 0.019332,
     "end_time": "2022-09-08T17:30:11.613402",
     "exception": false,
     "start_time": "2022-09-08T17:30:11.594070",
     "status": "completed"
    },
    "tags": []
   },
   "outputs": [
    {
     "name": "stdout",
     "output_type": "stream",
     "text": [
      "Neutral\n"
     ]
    }
   ],
   "source": [
    "greater(a,b,c)"
   ]
  },
  {
   "cell_type": "code",
   "execution_count": 22,
   "id": "3d1de3b7",
   "metadata": {
    "execution": {
     "iopub.execute_input": "2022-09-08T17:30:11.631729Z",
     "iopub.status.busy": "2022-09-08T17:30:11.631021Z",
     "iopub.status.idle": "2022-09-08T17:30:11.636928Z",
     "shell.execute_reply": "2022-09-08T17:30:11.635498Z"
    },
    "papermill": {
     "duration": 0.0184,
     "end_time": "2022-09-08T17:30:11.639805",
     "exception": false,
     "start_time": "2022-09-08T17:30:11.621405",
     "status": "completed"
    },
    "tags": []
   },
   "outputs": [
    {
     "name": "stdout",
     "output_type": "stream",
     "text": [
      "Positive :  1035.4579999999983\n",
      "Negative :  96.79999999999995\n",
      "Neutral :  1936.740999999996\n"
     ]
    }
   ],
   "source": [
    "print('Positive : ', a)\n",
    "print('Negative : ', b)\n",
    "print('Neutral : ', c)"
   ]
  },
  {
   "cell_type": "code",
   "execution_count": null,
   "id": "ccd909fa",
   "metadata": {
    "papermill": {
     "duration": 0.007892,
     "end_time": "2022-09-08T17:30:11.656433",
     "exception": false,
     "start_time": "2022-09-08T17:30:11.648541",
     "status": "completed"
    },
    "tags": []
   },
   "outputs": [],
   "source": []
  }
 ],
 "metadata": {
  "kernelspec": {
   "display_name": "Python 3",
   "language": "python",
   "name": "python3"
  },
  "language_info": {
   "codemirror_mode": {
    "name": "ipython",
    "version": 3
   },
   "file_extension": ".py",
   "mimetype": "text/x-python",
   "name": "python",
   "nbconvert_exporter": "python",
   "pygments_lexer": "ipython3",
   "version": "3.7.12"
  },
  "papermill": {
   "default_parameters": {},
   "duration": 18.339771,
   "end_time": "2022-09-08T17:30:12.692092",
   "environment_variables": {},
   "exception": null,
   "input_path": "__notebook__.ipynb",
   "output_path": "__notebook__.ipynb",
   "parameters": {},
   "start_time": "2022-09-08T17:29:54.352321",
   "version": "2.3.4"
  }
 },
 "nbformat": 4,
 "nbformat_minor": 5
}
